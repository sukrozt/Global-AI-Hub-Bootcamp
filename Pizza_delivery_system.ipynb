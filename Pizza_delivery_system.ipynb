{
  "nbformat": 4,
  "nbformat_minor": 0,
  "metadata": {
    "colab": {
      "provenance": []
    },
    "kernelspec": {
      "name": "python3",
      "display_name": "Python 3"
    },
    "language_info": {
      "name": "python"
    }
  },
  "cells": [
    {
      "cell_type": "markdown",
      "source": [
        "# Main Code\n"
      ],
      "metadata": {
        "id": "zqgyNFHmC3zU"
      }
    },
    {
      "cell_type": "code",
      "source": [
        "import csv\n",
        "import datetime\n",
        "\n",
        "menu_file = open(\"menu.txt\", 'w')  # menu.txt dosyası oluşturuldu ve menü içeriği yazdırıldı\n",
        "menu_file.write(\n",
        "    '* Please Choose a Pizza Base: \\n1: Classic: Fresh mozzarella cheese on tomato sauce. \\n2: Margherita: Fresh '\n",
        "    'basil with mozzarella on pesto sauce. \\n3: Turkish Pizza: 3 meat products, olive with goat cheese on tomato '\n",
        "    'sauce. \\n4: Plain Pizza: Just tomato sauce and whole grain.  \\n\\n* and topping of '\n",
        "    'your choice: \\n11: Olives \\n12: Mushrooms \\n13: Goat Cheese \\n14: Meat \\n15: Onions \\n16: Corn \\n\\n* Thank you!')\n",
        "menu_file.close()"
      ],
      "metadata": {
        "id": "3so-sqwNXcBq"
      },
      "execution_count": null,
      "outputs": []
    },
    {
      "cell_type": "markdown",
      "source": [
        "Yukarıdaki kodun amacı, menüdeki pizza ve malzeme seçeneklerini içeren bir menü yazdırmak. Dosyanın en başında CSV ve datetime kütüphanelerini indirdikten sonra file I/O komutlarıyla menu.txt dosyasını oluşturduk ve menü içeriğini yazdırdık."
      ],
      "metadata": {
        "id": "r7GtgU7d3SvN"
      }
    },
    {
      "cell_type": "code",
      "source": [
        "class Pizza:  # Pizza supersınıfı \"description\" ve \"price\" argümanlarını alacak şekilde oluşturuldu\n",
        "    def __init__(self, description, price):\n",
        "        self.description = description\n",
        "        self.price = price\n",
        "\n",
        "    def get_description(self):\n",
        "        return self.description\n",
        "\n",
        "    def get_cost(self):\n",
        "        return self.price\n",
        "\n",
        "class Classic(Pizza):  # pizza altsınıfları oluşturuldu\n",
        "    def __init__(self):\n",
        "        super().__init__(\"Classic Pizza\",\n",
        "                         10)  # her altsınıf, supersınıftan açıklama ve fiyat özelliklerini miras alıyor\n",
        "\n",
        "\n",
        "class Margherita(Pizza):\n",
        "    def __init__(self):\n",
        "        super().__init__(\"Margherita Pizza\", 12)\n",
        "\n",
        "\n",
        "class TurkPizza(Pizza):\n",
        "    def __init__(self):\n",
        "        super().__init__(\"Turkish Pizza\", 20)\n",
        "\n",
        "\n",
        "class PlainPizza(Pizza):\n",
        "    def __init__(self):\n",
        "        super().__init__(\"Plain Pizza\", 8)"
      ],
      "metadata": {
        "id": "s611FNcGZWdu"
      },
      "execution_count": null,
      "outputs": []
    },
    {
      "cell_type": "markdown",
      "source": [
        "Önce Pizza sınıfını oluşturduk. Bu sınıfın objeleri \"description\" ve \"price\" özelliklerine sahip. Sınıfa bunları atadıktan sonra sınıfın objelerine ait açıklamayı ve fiyatı döndüren get_description ve get_cost metodlarını tanımladık.\n",
        "\n",
        "\n",
        "Ardından her pizza çeşidi için ayrı alt sınıf oluşturduk. Bunu yapmamızın amacı, pizza tabanları ile malzemeleri birleştirirken iş gücünden tasarruf ederek kolaylık sağlamak. Alt sınıflarımızda \"description\" ve \"price\" özelliklerini üst sınıftan miras aldık, her alt sınıf için tanımladık."
      ],
      "metadata": {
        "id": "tCynZvWq32ui"
      }
    },
    {
      "cell_type": "code",
      "source": [
        "class Decorator(Pizza):  # Decorator sınıfı, pizza sınıfının alt sınıfı olarak oluşturuldu\n",
        "    def __init__(self, description, price, component):\n",
        "        super().__init__(description, price)\n",
        "        self.component = component\n",
        "\n",
        "    def get_cost(self):  # pizzanın toplam fiyatını döndürür\n",
        "        return self.component.get_cost() + Pizza.get_cost(self)\n",
        "\n",
        "    def get_description(self):  # pizzanın son halinin açıklamasını döndürür\n",
        "        return self.component.get_description() + ', ' + Pizza.get_description(self)\n",
        "\n",
        "class Olives(Decorator):  # Decorator sınıfının alt sınıfları\n",
        "    def __init__(self, component):\n",
        "        super().__init__(\"Olives\", 3, component)\n",
        "\n",
        "\n",
        "class Mushrooms(Decorator):\n",
        "    def __init__(self, component):\n",
        "        super().__init__(\"Mushrooms\", 4, component)\n",
        "\n",
        "\n",
        "class GoatCheese(Decorator):\n",
        "    def __init__(self, component):\n",
        "        super().__init__(\"Goat cheese\", 5, component)\n",
        "\n",
        "\n",
        "class Meat(Decorator):\n",
        "    def __init__(self, component):\n",
        "        super().__init__(\"Meat\", 8, component)\n",
        "\n",
        "\n",
        "class Onions(Decorator):\n",
        "    def __init__(self, component):\n",
        "        super().__init__(\"Onions\", 4, component)\n",
        "\n",
        "\n",
        "class Corn(Decorator):\n",
        "    def __init__(self, component):\n",
        "        super().__init__(\"Corn\", 3, component)\n"
      ],
      "metadata": {
        "id": "SMLWj_fkad2l"
      },
      "execution_count": null,
      "outputs": []
    },
    {
      "cell_type": "markdown",
      "source": [
        "Pizza tabanına malzeme ekleyebilmek için, pizzanın son halinin fiyatını ve açıklamasını döndüren get_description ve get_cost metodlarını Pizza sınıfından miras alan \"Decorator\" sınıfını oluşturduk. Decorator sınıfı description ve price özelliklerini miras alıyor ancak \"component\" özelliği kendisine tanımlanıyor. \n",
        "\n",
        "component özelliği malzemenin üzerine konduğu pizza tabanını tanıyabilmesi için kullanıldı. Pizza sınıfından miras alınan get_cost ve get_description metodları pizzanın son halinin açıklaması ve fiyatını döndürdüğü için component argümanına ihtiyaç duyuyor. Metodlar önce pizza tabanının, sonra pizza malzemesinin özelliklerini döndürüyor ve kullanıcıya toplam fiyatı veya açıklamayı sunuyor. \n",
        "\n",
        "Her malzemeyi Decorator sınıfının ayrı bir alt sınıfı halinde yazmamızın sebebi ise pizza çeştilerini alt sınıf olarak tanımlamamızın sebebiyle tamamen aynı. "
      ],
      "metadata": {
        "id": "ZkwEmfxf44aE"
      }
    },
    {
      "cell_type": "code",
      "source": [
        "def write_to_csv(name, id, credit_card, order_desc, order_date, card_pass):\n",
        "    try:\n",
        "        with open(\"Orders_Database.csv\") as csv_f:\n",
        "            pass\n",
        "        with open(\"Orders_Database.csv\", \"a\") as csv_file:\n",
        "            fieldnames = ['name', 'id', 'credit_card', \"order_desc\", \"order_date\", \"card_pass\"]\n",
        "            writer = csv.DictWriter(csv_file, fieldnames=fieldnames)\n",
        "            writer.writerow(\n",
        "                {\"name\": name, \"id\": id, \"credit_card\": credit_card, \"order_desc\": order_desc, \"order_date\": order_date,\n",
        "                 \"card_pass\": card_pass})\n",
        "    except:\n",
        "        with open(\"Orders_Database.csv\", \"w\") as csv_file:\n",
        "            fieldnames = ['name', 'id', 'credit_card', \"order_desc\", \"order_date\", \"card_pass\"]\n",
        "            writer = csv.DictWriter(csv_file, fieldnames=fieldnames)\n",
        "            writer.writeheader()\n",
        "            writer.writerow(\n",
        "                {\"name\": name, \"id\": id, \"credit_card\": credit_card, \"order_desc\": order_desc, \"order_date\": order_date,\n",
        "                 \"card_pass\": card_pass})"
      ],
      "metadata": {
        "id": "nzdLDv0YanW8"
      },
      "execution_count": null,
      "outputs": []
    },
    {
      "cell_type": "markdown",
      "source": [
        "Tanımladığımız write_to_csv metodu ise kullanıcı tarafından bize sağlanan bilgileri oluşturmuş olduğu csv dosyasına CSV kütüphanesindeki komutları kullanarak yazdırıyor. "
      ],
      "metadata": {
        "id": "x2jU6D9q6fD7"
      }
    },
    {
      "cell_type": "code",
      "source": [
        "def main():\n",
        "    with open(\"menu.txt\") as f:\n",
        "        print(f.read())\n",
        "    while True:\n",
        "        pizzas_dict = {  # menüdeki pizza seçimi pizza altsınıflarına gidiyor\n",
        "            \"1\": Classic(),\n",
        "            \"2\": Margherita(),\n",
        "            \"3\": TurkPizza(),\n",
        "            \"4\": PlainPizza(),\n",
        "        }\n",
        "\n",
        "        pizza_base = pizzas_dict[input(\"Select pizza base: \")]\n",
        "\n",
        "        topping_dict = {\n",
        "            # menüdeki topping seçimi topping altsınıflarına, ilk başta seçilen pizza_base argümanıyla beraber gidiyor\n",
        "            \"11\": Olives(pizza_base),\n",
        "            \"12\": Mushrooms(pizza_base),\n",
        "            \"13\": GoatCheese(pizza_base),\n",
        "            \"14\": Meat(pizza_base),\n",
        "            \"15\": Onions(pizza_base),\n",
        "            \"16\": Corn(pizza_base),\n",
        "        }\n",
        "\n",
        "        final_pizza = topping_dict[input(\"Select toppings: \")]\n",
        "\n",
        "        print(f\"You ordered: {final_pizza.get_description()}\")  # sipariş edilen pizzanın açıklaması\n",
        "        print(f\"Total price: {final_pizza.get_cost()} TL\")  # sipariş edilen pizzanın son fiyatı\n",
        "        name = input(\"Please enter your name: \")\n",
        "        id = input(\"Please enter your ID number: \")\n",
        "\n",
        "        is_16digit = False\n",
        "        is_4digit = False\n",
        "\n",
        "        while not is_16digit:  # girilen kart numarası 16 basamaklı değilse hata verir\n",
        "            try:\n",
        "                credit_card = int(input(\"Please enter your credit card number (without whitespace): \"))\n",
        "                assert len(str(credit_card)) == 16\n",
        "                is_16digit = True\n",
        "            except AssertionError:\n",
        "                print(\"Your card number should have 16 digits. Please try again.\")\n",
        "            except ValueError:\n",
        "                print(\"Card number only can contain numbers. Please try again.\")\n",
        "\n",
        "        while not is_4digit:  # girilen kart şifresi 4 basamaklı değilse hata verir\n",
        "            try:\n",
        "                card_pass = input(\"Please enter your credit card password: \")\n",
        "                assert len(str(card_pass)) == 4\n",
        "                is_4digit = True\n",
        "            except AssertionError:\n",
        "                print(\"Your card pass should have 4 digits. Please try again.\")\n",
        "            except ValueError:\n",
        "                print(\"Card pass only can contain numbers. Please try again.\")\n",
        "\n",
        "        print(\"\\nYour order is successful!\")\n",
        "\n",
        "        order_date = datetime.datetime.now()\n",
        "\n",
        "        write_to_csv(name, id, str(credit_card), final_pizza.get_description(), order_date, str(card_pass))\n",
        "\n",
        "        checker = input(\"If there is new order, write 'YES', if not write 'NO': \")\n",
        "\n",
        "        if checker == \"YES\":\n",
        "            continue\n",
        "        elif checker == \"NO\":\n",
        "            break\n",
        "\n",
        "\n",
        "if __name__ == \"__main__\":\n",
        "    main()\n",
        "    print(\"Have a nice day!\")"
      ],
      "metadata": {
        "id": "-_WGSmuFhXw4"
      },
      "execution_count": null,
      "outputs": []
    },
    {
      "cell_type": "markdown",
      "source": [
        "main metodumuz kodun son kısmı. Tüm pizza alt sınıflarını ve malzeme alt sınıflarını bir dictionary içinde value olarak atadık. Alınan inputa göre pizza_base(Decorator sınıfında tanımladığımız component) belirleniyor ve malzemenin argümanı olarak kullanılıyor. \n",
        "\n",
        "Pizzanın son hali belirlendikten kullanıcıdan veriler alınıyor ve write_to_csv metoduyla csv dosyasına yazdırılıyor. Yeni bir sipariş varsa kod başa dönüyor, yoksa kod kendini kapatıyor. "
      ],
      "metadata": {
        "id": "6EPDUdSd63Vl"
      }
    }
  ]
}
